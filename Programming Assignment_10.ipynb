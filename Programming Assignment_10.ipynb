{
 "cells": [
  {
   "cell_type": "raw",
   "id": "49f6ea53",
   "metadata": {},
   "source": [
    "1. Write a Python program to find sum of elements in list?"
   ]
  },
  {
   "cell_type": "code",
   "execution_count": null,
   "id": "eb8a6ec8",
   "metadata": {},
   "outputs": [],
   "source": [
    "# Python program to find sum of elements in list.\n",
    "\n",
    "lst = []\n",
    "\n",
    "n = int(input(\"Enter number of elements : \"))\n",
    "\n",
    "for i in range(0, n):\n",
    "    a= int(input())\n",
    "\n",
    "    lst.append(a) \n",
    "    \n",
    "print(\"Entered list: \",lst)\n",
    "\n",
    "total = 0\n",
    "\n",
    "list1 = lst\n",
    "\n",
    "for a in range(0, len(list1)):\n",
    "    total = total + list1[a]\n",
    "\n",
    "print(\"Sum of all elements in the entered list: \", total)\n"
   ]
  },
  {
   "cell_type": "raw",
   "id": "96b7489c",
   "metadata": {},
   "source": [
    "2. Write a Python program to Multiply all numbers in the list?"
   ]
  },
  {
   "cell_type": "code",
   "execution_count": null,
   "id": "5aa34078",
   "metadata": {},
   "outputs": [],
   "source": [
    "# Python program to Multiply all numbers in the list.\n",
    "lst = []\n",
    "\n",
    "n = int(input(\"Enter number of elements : \"))\n",
    "\n",
    "for i in range(0, n):\n",
    "    a = int(input())\n",
    "\n",
    "    lst.append(a)\n",
    "    \n",
    "print(\"Entered list: \",lst)\n",
    "\n",
    "total = 1\n",
    "\n",
    "list1 = lst\n",
    "\n",
    "for a in range(0, len(list1)):\n",
    "    total = total * list1[a]\n",
    "\n",
    "print(\"Product of all elements in the entered list: \", total)\n"
   ]
  },
  {
   "cell_type": "raw",
   "id": "6164ef86",
   "metadata": {},
   "source": [
    "3. Write a Python program to find smallest number in a list?"
   ]
  },
  {
   "cell_type": "code",
   "execution_count": 5,
   "id": "ce1d1203",
   "metadata": {},
   "outputs": [
    {
     "name": "stdout",
     "output_type": "stream",
     "text": [
      "Enter number of elements : 5\n",
      "12\n",
      "5\n",
      "8\n",
      "9\n",
      "3\n",
      "Entered list:  [12, 5, 8, 9, 3]\n",
      "Smallest element is: 3\n"
     ]
    }
   ],
   "source": [
    "# Python program to find smallest number in a list\n",
    "\n",
    "list = []\n",
    "\n",
    "n = int(input(\"Enter number of elements : \"))\n",
    "\n",
    "for i in range(0, n):\n",
    "    a = int(input())\n",
    "\n",
    "    list.append(a) \n",
    "    \n",
    "print(\"Entered list: \",list)\n",
    "\n",
    "# sorting the list\n",
    "list.sort()\n",
    "\n",
    "# printing the first element\n",
    "print(\"Smallest element is:\", *list[:1])\n"
   ]
  },
  {
   "cell_type": "raw",
   "id": "652821c5",
   "metadata": {},
   "source": [
    "4. Write a Python program to find largest number in a list?"
   ]
  },
  {
   "cell_type": "code",
   "execution_count": null,
   "id": "81cd5ca5",
   "metadata": {},
   "outputs": [],
   "source": [
    "# Python program to find largest number in a list.\n",
    "list = []\n",
    "\n",
    "n = int(input(\"Enter number of elements : \"))\n",
    "\n",
    "for i in range(0, n):\n",
    "    a = int(input())\n",
    "\n",
    "    list.append(a) \n",
    "    \n",
    "print(\"Entered list: \",list)\n",
    "\n",
    "# sorting the list\n",
    "list.sort()\n",
    "\n",
    "# printing the first element\n",
    "print(\"Largest element is:\", list[-1])\n"
   ]
  },
  {
   "cell_type": "raw",
   "id": "6f99f8b5",
   "metadata": {},
   "source": [
    "5. Write a Python program to find second largest number in a list?"
   ]
  },
  {
   "cell_type": "code",
   "execution_count": 4,
   "id": "6d3b1fac",
   "metadata": {},
   "outputs": [
    {
     "name": "stdout",
     "output_type": "stream",
     "text": [
      "Enter number of elements : 5\n",
      "1\n",
      "2\n",
      "3\n",
      "4\n",
      "5\n",
      "Entered list:  [1, 2, 3, 4, 5]\n",
      "Second highest number is :  4\n"
     ]
    }
   ],
   "source": [
    "# Python program to find second largest number in a list\n",
    "list = []\n",
    "\n",
    "n = int(input(\"Enter number of elements : \"))\n",
    "\n",
    "for i in range(0, n):\n",
    "    a = int(input())\n",
    "\n",
    "    list.append(a)\n",
    "    \n",
    "print(\"Entered list: \",list) \n",
    "\n",
    "mx=max(list[0],list[1])\n",
    "\n",
    "secondmax=min(list[0],list[1])\n",
    "\n",
    "n =len(list)\n",
    "\n",
    "for i in range(2,n):\n",
    "    \n",
    "    if list[i]>mx:\n",
    "        \n",
    "        secondmax=mx\n",
    "        \n",
    "        mx=list[i]\n",
    "    \n",
    "    elif list[i]>secondmax and \\\n",
    "        mx != list[i]:\n",
    "        secondmax=list[i]\n",
    "\n",
    "print(\"Second highest number is : \",\\\n",
    "    str(secondmax))\n"
   ]
  },
  {
   "cell_type": "raw",
   "id": "b6d1016e",
   "metadata": {},
   "source": [
    "6. Write a Python program to find N largest elements from a list?"
   ]
  },
  {
   "cell_type": "code",
   "execution_count": 6,
   "id": "24a2a042",
   "metadata": {},
   "outputs": [
    {
     "name": "stdout",
     "output_type": "stream",
     "text": [
      "Enter number of elements : 5\n",
      "1\n",
      "2\n",
      "3\n",
      "4\n",
      "5\n",
      "Entered list:  [1, 2, 3, 4, 5]\n",
      "The N largest element:3\n",
      "[3, 4, 5]\n"
     ]
    }
   ],
   "source": [
    "# Python program to find N largest elements from a list\n",
    "\n",
    "list = []\n",
    "\n",
    "n = int(input(\"Enter number of elements : \"))\n",
    "\n",
    "for i in range(0, n):\n",
    "    a = int(input())\n",
    "\n",
    "    list.append(a)\n",
    "    \n",
    "print(\"Entered list: \",list)\n",
    "x = int(input(\"The N largest element:\"))\n",
    "\n",
    "list.sort()\n",
    "\n",
    "print(list[-x:])\n"
   ]
  },
  {
   "cell_type": "raw",
   "id": "b0e3f8c4",
   "metadata": {},
   "source": [
    "7. Write a Python program to print even numbers in a list?"
   ]
  },
  {
   "cell_type": "code",
   "execution_count": null,
   "id": "c4016954",
   "metadata": {},
   "outputs": [],
   "source": [
    "# Python program to print even numbers in a list.\n",
    "list = []\n",
    "\n",
    "n = int(input(\"Enter number of elements : \"))\n",
    "\n",
    "for i in range(0, n):\n",
    "    a = int(input())\n",
    "\n",
    "    list.append(a)\n",
    "    \n",
    "print(\"Entered list: \",list)\n",
    "\n",
    "for num in list:\n",
    "    \n",
    "    if num % 2 == 0:\n",
    "        print(num,end=\" \")\n"
   ]
  },
  {
   "cell_type": "raw",
   "id": "64236494",
   "metadata": {},
   "source": [
    "8. Write a Python program to print odd numbers in a List?"
   ]
  },
  {
   "cell_type": "code",
   "execution_count": null,
   "id": "42e2db87",
   "metadata": {},
   "outputs": [],
   "source": [
    "# Python program to print odd numbers in a List.\n",
    "list = []\n",
    "\n",
    "n = int(input(\"Enter number of elements : \"))\n",
    "\n",
    "for i in range(0, n):\n",
    "    a = int(input())\n",
    "\n",
    "    list.append(a)\n",
    "    \n",
    "print(\"Entered list: \",list)\n",
    "\n",
    "for num in list:\n",
    "    \n",
    "    if num % 2 != 0:\n",
    "        print(num,end=\" \")"
   ]
  },
  {
   "cell_type": "raw",
   "id": "174bc7b9",
   "metadata": {},
   "source": [
    "9. Write a Python program to Remove empty List from List?"
   ]
  },
  {
   "cell_type": "code",
   "execution_count": 48,
   "id": "7edcc572",
   "metadata": {},
   "outputs": [
    {
     "name": "stdout",
     "output_type": "stream",
     "text": [
      "The original list is : [1, [], 2, 3, [], 4, 5, [], [], 9]\n",
      "List after empty list removal : [1, 2, 3, 4, 5, 9]\n"
     ]
    }
   ],
   "source": [
    "# Python program to Remove empty List from List\n",
    "lst = [1, [], 2, 3, [], 4, 5, [], [], 9]\n",
    "\n",
    "print(\"The original list is : \" + str(lst))\n",
    "\n",
    "# Remove empty List from List\n",
    "result = [i for i in lst if i != []]\n",
    "\n",
    "print (\"List after empty list removal : \" + str(result))"
   ]
  },
  {
   "cell_type": "raw",
   "id": "92ca5187",
   "metadata": {},
   "source": [
    "10. Write a Python program to Cloning or Copying a list?"
   ]
  },
  {
   "cell_type": "code",
   "execution_count": null,
   "id": "4a8563ee",
   "metadata": {},
   "outputs": [],
   "source": [
    "# Python program to Cloning or Copying a list\n",
    "li1 = []\n",
    "\n",
    "n = int(input(\"Enter number of elements : \"))\n",
    "\n",
    "for i in range(0, n):\n",
    "    a = int(input())\n",
    "\n",
    "    li1.append(a)\n",
    "    \n",
    "print(\"Original List:\",li1)\n",
    "\n",
    "def Cloning(li1):\n",
    "    li_copy = li1[:]\n",
    "    return li_copy\n",
    "\n",
    "li2 = Cloning(li1)\n",
    "print(\"After Cloning:\", li2)\n"
   ]
  },
  {
   "cell_type": "raw",
   "id": "8d7b0ae3",
   "metadata": {},
   "source": [
    "11. Write a Python program to Count occurrences of an element in a list?"
   ]
  },
  {
   "cell_type": "code",
   "execution_count": null,
   "id": "0d27b925",
   "metadata": {},
   "outputs": [],
   "source": [
    "# Python program to Count occurrences of an element in a list\n",
    "lst = []\n",
    "\n",
    "n = int(input(\"Enter number of elements : \"))\n",
    "\n",
    "for i in range(0, n):\n",
    "    a = int(input())\n",
    "\n",
    "    lst.append(a)\n",
    "    \n",
    "print(\"Entered list: \",lst)\n",
    "\n",
    "def countX(lst, x):\n",
    "    count = 0\n",
    "    for ele in lst:\n",
    "        if (ele == x):\n",
    "            count = count + 1\n",
    "    \n",
    "    return count\n",
    "\n",
    "x =int(input(\"Enter a number to check how many time it has occured: \"))\n",
    "\n",
    "print('{} has occurred {} times'.format(x, countX(lst, x)))\n"
   ]
  },
  {
   "cell_type": "code",
   "execution_count": null,
   "id": "45816536",
   "metadata": {},
   "outputs": [],
   "source": []
  }
 ],
 "metadata": {
  "kernelspec": {
   "display_name": "Python 3 (ipykernel)",
   "language": "python",
   "name": "python3"
  },
  "language_info": {
   "codemirror_mode": {
    "name": "ipython",
    "version": 3
   },
   "file_extension": ".py",
   "mimetype": "text/x-python",
   "name": "python",
   "nbconvert_exporter": "python",
   "pygments_lexer": "ipython3",
   "version": "3.9.7"
  }
 },
 "nbformat": 4,
 "nbformat_minor": 5
}
