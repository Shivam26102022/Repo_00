{
 "cells": [
  {
   "cell_type": "raw",
   "id": "63346957",
   "metadata": {},
   "source": [
    "1. Write a Python Program to find sum of array?"
   ]
  },
  {
   "cell_type": "code",
   "execution_count": 58,
   "id": "77c96d3b",
   "metadata": {},
   "outputs": [
    {
     "name": "stdout",
     "output_type": "stream",
     "text": [
      "Enter a list element of an Array separated by space \n",
      "Sum of the all the elements of the array is  0\n"
     ]
    }
   ],
   "source": [
    "\n",
    "def _sum(arr):\n",
    "\n",
    "    sum=0\n",
    "\n",
    "    for i in arr:\n",
    "        sum = sum + i\n",
    "    return(sum)\n",
    "\n",
    "arr=[]\n",
    "\n",
    "# input values to list\n",
    "arr = [float (i) for i in input(\"Enter a list element of an Array separated by space \").split()] \n",
    "\n",
    "n = len(arr)\n",
    "\n",
    "ans = _sum(arr)\n",
    "\n",
    "# display sum\n",
    "print ('Sum of the all the elements of the array is ', ans)\n"
   ]
  },
  {
   "cell_type": "raw",
   "id": "4f8a102f",
   "metadata": {},
   "source": [
    "2. Write a Python Program to find largest element in an array?"
   ]
  },
  {
   "cell_type": "code",
   "execution_count": null,
   "id": "5f5e530f",
   "metadata": {},
   "outputs": [],
   "source": [
    "\n",
    "def largest(arr,n):\n",
    "\n",
    "    max = arr[0]\n",
    "\n",
    "    for i in range(1, n):\n",
    "        if arr[i] > max:\n",
    "            max = arr[i]\n",
    "    return max\n",
    "\n",
    "arr = [float(i) for i in input(\"Enter a list element of an Array separated by space \").split()]\n",
    "n = len(arr)\n",
    "Ans = largest(arr,n)\n",
    "print (\"Largest in given array is\",Ans)\n"
   ]
  },
  {
   "cell_type": "raw",
   "id": "0154b7f0",
   "metadata": {},
   "source": [
    "3. Write a Python Program for array rotation?"
   ]
  },
  {
   "cell_type": "code",
   "execution_count": 46,
   "id": "9d4c0005",
   "metadata": {},
   "outputs": [
    {
     "name": "stdout",
     "output_type": "stream",
     "text": [
      "Enter a list element of an Array separated by space: 1 2 5 9\n",
      "How many times you want to left rotate given array: 2\n",
      "Array after left rotation is: [5, 9, 1, 2]\n"
     ]
    }
   ],
   "source": [
    "\n",
    "def rotateArray(arr, n, d ):\n",
    "    temp = []\n",
    "    i = 0\n",
    "    while (i < d):\n",
    "        temp.append(arr[i])\n",
    "        i = i + 1\n",
    "    i = 0\n",
    "    while (d < n):\n",
    "        arr[i] = arr[d]\n",
    "        i = i + 1\n",
    "        d = d + 1\n",
    "    arr[:] = arr[: i] + temp\n",
    "    return arr\n",
    "\n",
    "arr = [int (i) for i in input(\"Enter a list element of an Array separated by space: \").split()]\n",
    "\n",
    "x = int(input(\"How many times you want to left rotate given array: \"))\n",
    "\n",
    "print(\"Array after left rotation is: \", end='')\n",
    "print(rotateArray(arr, len(arr),x))\n"
   ]
  },
  {
   "cell_type": "raw",
   "id": "81653cb5",
   "metadata": {},
   "source": [
    "4. Write a Python Program to Split the array and add the first part to the end?"
   ]
  },
  {
   "cell_type": "code",
   "execution_count": 54,
   "id": "d5fb7eab",
   "metadata": {},
   "outputs": [
    {
     "name": "stdout",
     "output_type": "stream",
     "text": [
      "Enter a list element of an Array separated by space: 12 5 6 8 92 4 58 3\n",
      "Enter the position from which you want to split the array: 3\n",
      "8 92 4 58 3 12 5 6 "
     ]
    }
   ],
   "source": [
    "def SplitArray(arr, n, k):\n",
    "    for i in range(0, k):\n",
    "        x = arr[0]\n",
    "        for j in range(0, n-1):\n",
    "            arr[j] = arr[j + 1]\n",
    "        \n",
    "        arr[n-1] = x\n",
    "arr = [int (i) for i in input(\"Enter a list element of an Array separated by space: \").split()]\n",
    "\n",
    "n = len(arr)\n",
    "\n",
    "position = int(input(\"Enter the position from which you want to split the array: \"))\n",
    "\n",
    "SplitArray(arr, n, position)\n",
    "\n",
    "for i in range(0, n):\n",
    "    print(arr[i], end = ' ')"
   ]
  },
  {
   "cell_type": "raw",
   "id": "07ef24c1",
   "metadata": {},
   "source": [
    " 5. Write a Python Program to check if given array is Monotonic?"
   ]
  },
  {
   "cell_type": "code",
   "execution_count": 57,
   "id": "07cf4241",
   "metadata": {},
   "outputs": [
    {
     "name": "stdout",
     "output_type": "stream",
     "text": [
      "Enter a list element of an Array separated by space: 4 5 6 9 8\n",
      "False\n"
     ]
    }
   ],
   "source": [
    "\n",
    "def isMonotonic(A):\n",
    "\n",
    "    return (all(A[i] <= A[i + 1] for i in range(len(A) - 1)) or\n",
    "            all(A[i] >= A[i + 1] for i in range(len(A) - 1)))\n",
    "\n",
    "# Driver program\n",
    "A= [int (i) for i in input(\"Enter a list element of an Array separated by space: \").split()]\n",
    "\n",
    "# Print required result\n",
    "print(isMonotonic(A))"
   ]
  },
  {
   "cell_type": "code",
   "execution_count": null,
   "id": "d3c14d96",
   "metadata": {},
   "outputs": [],
   "source": []
  }
 ],
 "metadata": {
  "kernelspec": {
   "display_name": "Python 3 (ipykernel)",
   "language": "python",
   "name": "python3"
  },
  "language_info": {
   "codemirror_mode": {
    "name": "ipython",
    "version": 3
   },
   "file_extension": ".py",
   "mimetype": "text/x-python",
   "name": "python",
   "nbconvert_exporter": "python",
   "pygments_lexer": "ipython3",
   "version": "3.9.7"
  }
 },
 "nbformat": 4,
 "nbformat_minor": 5
}
