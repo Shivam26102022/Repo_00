{
 "cells": [
  {
   "cell_type": "raw",
   "id": "96407078",
   "metadata": {},
   "source": [
    "1. Write a Python program to find words which are greater than given length k?"
   ]
  },
  {
   "cell_type": "code",
   "execution_count": null,
   "id": "9696cae9",
   "metadata": {},
   "outputs": [],
   "source": [
    "\n",
    "def string_k(k, str):\n",
    "\n",
    "    string = []\n",
    "    \n",
    "    text = str.split(\" \")\n",
    "    \n",
    "    for x in text:\n",
    "\n",
    "        if len(x) > k:\n",
    "            \n",
    "            string.append(x)\n",
    "            \n",
    "    return string\n",
    "\n",
    "k = int(input(\"Length of k is? \"))\n",
    "str =input(\"Enter a string: \")\n",
    "print(string_k(k, str))\n"
   ]
  },
  {
   "cell_type": "raw",
   "id": "01e6931d",
   "metadata": {},
   "source": [
    "2. Write a Python program for removing i-th character from a string?"
   ]
  },
  {
   "cell_type": "code",
   "execution_count": 6,
   "id": "10e5e5c0",
   "metadata": {},
   "outputs": [
    {
     "name": "stdout",
     "output_type": "stream",
     "text": [
      "Enter string: lazy little boy went upstairs.\n",
      "Enter position of the i-th character to be removed: 6\n",
      "lazy lttle boy went upstairs.\n"
     ]
    }
   ],
   "source": [
    "\n",
    "def remove(string, i):\n",
    "\n",
    "    a = string[ : i]\n",
    "\n",
    "    b = string[i + 1: ]\n",
    "\n",
    "    return a + b\n",
    "    \n",
    "if __name__ == '__main__':\n",
    "    \n",
    "    string = input(\"Enter string: \")\n",
    "    \n",
    "    i = int(input(\"Enter position of the i-th character to be removed: \"))\n",
    "\n",
    "    print(remove(string, i))\n"
   ]
  },
  {
   "cell_type": "raw",
   "id": "f130b93a",
   "metadata": {},
   "source": [
    "3. Write a Python program to split and join a string?"
   ]
  },
  {
   "cell_type": "code",
   "execution_count": null,
   "id": "3adcc40f",
   "metadata": {},
   "outputs": [],
   "source": [
    "\n",
    "def split_string(string):\n",
    "\n",
    "    list_string = string.split(' ')\n",
    "    \n",
    "    return list_string\n",
    "\n",
    "def join_string(list_string):\n",
    "\n",
    "    # Join the string based on '-' delimiter\n",
    "    string = '-'.join(list_string)\n",
    "    \n",
    "    return string\n",
    "\n",
    "if __name__ == '__main__':\n",
    "    string = input(\"Enter string: \")\n",
    "\n",
    "    list_string = split_string(string)\n",
    "    print(list_string)\n",
    "\n",
    "    new_string = join_string(list_string)\n",
    "    print(new_string)\n"
   ]
  },
  {
   "cell_type": "raw",
   "id": "3457bf3a",
   "metadata": {},
   "source": [
    "4. Write a Python to check if a given string is binary string or not?"
   ]
  },
  {
   "cell_type": "code",
   "execution_count": 11,
   "id": "4d4d84e5",
   "metadata": {},
   "outputs": [
    {
     "name": "stdout",
     "output_type": "stream",
     "text": [
      "Enter string to check if binary or not? 10110101001\n",
      "Yes\n"
     ]
    }
   ],
   "source": [
    "\n",
    "def check(string) :\n",
    "\n",
    "    p = set(string)\n",
    "\n",
    "    s = {'0', '1'}\n",
    "\n",
    "    if s == p or p == {'0'} or p == {'1'}:\n",
    "        print(\"Yes\")\n",
    "    else :\n",
    "        print(\"No\")\n",
    "\n",
    "if __name__ == \"__main__\" :\n",
    "\n",
    "    string = input(\"Enter string to check if binary or not? \")\n",
    "\n",
    "    check(string)\n"
   ]
  },
  {
   "cell_type": "raw",
   "id": "0c917eb1",
   "metadata": {},
   "source": [
    "5. Write a Python program to find uncommon words from two Strings?"
   ]
  },
  {
   "cell_type": "code",
   "execution_count": 16,
   "id": "f3f0f045",
   "metadata": {},
   "outputs": [
    {
     "name": "stdout",
     "output_type": "stream",
     "text": [
      "Enter first string: ineuron is the best \n",
      "Enter second string: oneneuron is the best\n",
      "['ineuron', 'oneneuron']\n"
     ]
    }
   ],
   "source": [
    "\n",
    "def UncommonWords(A, B):\n",
    "\n",
    "    count = {}\n",
    "\n",
    "    for word in A.split():\n",
    "        count[word] = count.get(word, 0) + 1\n",
    "\n",
    "    for word in B.split():\n",
    "        count[word] = count.get(word, 0) + 1\n",
    "\n",
    "    return [word for word in count if count[word] == 1]\n",
    "\n",
    "A = input(\"Enter first string: \")\n",
    "B = input(\"Enter second string: \")\n",
    "\n",
    "print(UncommonWords (A, B))\n"
   ]
  },
  {
   "cell_type": "raw",
   "id": "17d86647",
   "metadata": {},
   "source": [
    "6. Write a Python to find all duplicate characters in string?"
   ]
  },
  {
   "cell_type": "code",
   "execution_count": null,
   "id": "85429806",
   "metadata": {},
   "outputs": [],
   "source": [
    "\n",
    "string =input(\"Enter a string to find its duplicate characters: \")\n",
    "\n",
    "duplicates = []\n",
    "for char in string:\n",
    "    if string.count(char) > 1:\n",
    "        if char not in duplicates:\n",
    "            duplicates.append(char)\n",
    "print(*duplicates)"
   ]
  },
  {
   "cell_type": "raw",
   "id": "7656e880",
   "metadata": {},
   "source": [
    "7. Write a Python Program to check if a string contains any special character?"
   ]
  },
  {
   "cell_type": "code",
   "execution_count": null,
   "id": "d45bef65",
   "metadata": {},
   "outputs": [],
   "source": [
    "\n",
    "import re\n",
    "\n",
    "def run(string):\n",
    "\n",
    "    regex = re.compile('[@_!#$%^&*()<>?/\\|}{~:]')\n",
    "    \n",
    "    if(regex.search(string) == None):\n",
    "        print(\"No Special Characters present.\")\n",
    "        \n",
    "    else:\n",
    "        print(\"Special Characters present.\")\n",
    "\n",
    "if __name__ == '__main__' :\n",
    "    \n",
    "    string = input(\"Enter a string to check for special characters: \")\n",
    "\n",
    "    run(string)\n"
   ]
  },
  {
   "cell_type": "code",
   "execution_count": null,
   "id": "36682ead",
   "metadata": {},
   "outputs": [],
   "source": []
  }
 ],
 "metadata": {
  "kernelspec": {
   "display_name": "Python 3 (ipykernel)",
   "language": "python",
   "name": "python3"
  },
  "language_info": {
   "codemirror_mode": {
    "name": "ipython",
    "version": 3
   },
   "file_extension": ".py",
   "mimetype": "text/x-python",
   "name": "python",
   "nbconvert_exporter": "python",
   "pygments_lexer": "ipython3",
   "version": "3.9.7"
  }
 },
 "nbformat": 4,
 "nbformat_minor": 5
}
