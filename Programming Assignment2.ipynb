{
 "cells": [
  {
   "cell_type": "raw",
   "id": "20c11d58",
   "metadata": {},
   "source": [
    "Q1. Write a Python program to convert kilometers to miles?"
   ]
  },
  {
   "cell_type": "code",
   "execution_count": 4,
   "id": "7a89b337",
   "metadata": {},
   "outputs": [
    {
     "name": "stdout",
     "output_type": "stream",
     "text": [
      "Enter value in kilometers: 100\n",
      "Kilometers in miles 62.137100000000004\n"
     ]
    }
   ],
   "source": [
    "kilometers = float(input(\"Enter value in kilometers: \"))\n",
    "# conversion factor\n",
    "conv_fac = 0.621371\n",
    "# calculate miles\n",
    "miles = kilometers * conv_fac\n",
    "print(\"Kilometers in miles\", miles)"
   ]
  },
  {
   "cell_type": "raw",
   "id": "1483e663",
   "metadata": {},
   "source": [
    "Q2. Write a Python program to convert Celsius to Fahrenheit?"
   ]
  },
  {
   "cell_type": "code",
   "execution_count": 11,
   "id": "4d4d0f88",
   "metadata": {},
   "outputs": [
    {
     "name": "stdout",
     "output_type": "stream",
     "text": [
      "Enter value in Celsius : 100\n",
      "Temperature value in Fahrenheit:  212.0\n"
     ]
    }
   ],
   "source": [
    "celsius = float(input(\"Enter value in Celsius : \"))\n",
    "# conversion factor\n",
    "Fahrenheit = celsius * (9/5) + 32\n",
    "print(\"Temperature value in Fahrenheit: \",Fahrenheit )"
   ]
  },
  {
   "cell_type": "raw",
   "id": "f6371768",
   "metadata": {},
   "source": [
    "Q3. Write a Python program to display calendar?"
   ]
  },
  {
   "cell_type": "code",
   "execution_count": 12,
   "id": "e4fa87f9",
   "metadata": {},
   "outputs": [
    {
     "name": "stdout",
     "output_type": "stream",
     "text": [
      "Enter year: 2022\n",
      "Enter month: 1\n",
      "    January 2022\n",
      "Mo Tu We Th Fr Sa Su\n",
      "                1  2\n",
      " 3  4  5  6  7  8  9\n",
      "10 11 12 13 14 15 16\n",
      "17 18 19 20 21 22 23\n",
      "24 25 26 27 28 29 30\n",
      "31\n",
      "\n"
     ]
    }
   ],
   "source": [
    "# Program to display calendar of the given month and year\n",
    "\n",
    "# importing calendar module\n",
    "import calendar\n",
    "\n",
    "yy = int(input(\"Enter year: \"))\n",
    "mm = int(input(\"Enter month: \"))\n",
    "\n",
    "print(calendar.month(yy, mm))\n"
   ]
  },
  {
   "cell_type": "raw",
   "id": "66e50e23",
   "metadata": {},
   "source": [
    "Q4. Write a Python program to solve quadratic equation?"
   ]
  },
  {
   "cell_type": "code",
   "execution_count": 22,
   "id": "0b1f0f30",
   "metadata": {},
   "outputs": [
    {
     "name": "stdout",
     "output_type": "stream",
     "text": [
      "Enter the value at the place of a in the quadratic equation: 1\n",
      "Enter the value at the place of b in the quadratic equation: 2\n",
      "Enter the value at the place of ac in the quadratic equation: -300\n",
      "The solution are (-18.349351572897472+0j) and (16.349351572897472+0j)\n"
     ]
    }
   ],
   "source": [
    "# format of a quadratic equation ax**2 + bx + c = 0\n",
    "\n",
    "# import complex math module\n",
    "import cmath\n",
    "\n",
    "a = float(input(\"Enter the value at the place of a in the quadratic equation: \"))\n",
    "b = float(input(\"Enter the value at the place of b in the quadratic equation: \"))\n",
    "c = float(input(\"Enter the value at the place of ac in the quadratic equation: \"))\n",
    "\n",
    "# calculate the discriminant\n",
    "d = (b**2) - (4*a*c)\n",
    "\n",
    "# find two solutions\n",
    "sol1 = (-b-cmath.sqrt(d))/(2*a)\n",
    "sol2 = (-b+cmath.sqrt(d))/(2*a)\n",
    "\n",
    "print('The solution are {0} and {1}'.format(sol1,sol2))\n"
   ]
  },
  {
   "cell_type": "raw",
   "id": "7c8cae97",
   "metadata": {},
   "source": [
    "Q5. Write a Python program to swap two variables without temp variable?"
   ]
  },
  {
   "cell_type": "code",
   "execution_count": 20,
   "id": "7b89cdb7",
   "metadata": {},
   "outputs": [
    {
     "name": "stdout",
     "output_type": "stream",
     "text": [
      "Value of x before swapping: 100\n",
      "Value of y before swapping: 200\n",
      "Value of x after swapping: 200\n",
      "Value of y after swapping:  100\n"
     ]
    }
   ],
   "source": [
    "# Python code to swap two numbers without using another variable\n",
    "\n",
    "\n",
    "x = input(\"Value of x before swapping: \")\n",
    "y = input(\"Value of y before swapping: \")\n",
    "\n",
    "x, y = y, x # code to swap 'x' and 'y'\n",
    "\n",
    "print (\"Value of x after swapping:\",x )\n",
    "print(\"Value of y after swapping: \",y)\n"
   ]
  }
 ],
 "metadata": {
  "kernelspec": {
   "display_name": "Python 3 (ipykernel)",
   "language": "python",
   "name": "python3"
  },
  "language_info": {
   "codemirror_mode": {
    "name": "ipython",
    "version": 3
   },
   "file_extension": ".py",
   "mimetype": "text/x-python",
   "name": "python",
   "nbconvert_exporter": "python",
   "pygments_lexer": "ipython3",
   "version": "3.9.7"
  }
 },
 "nbformat": 4,
 "nbformat_minor": 5
}
