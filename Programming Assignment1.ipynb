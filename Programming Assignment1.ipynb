{
 "cells": [
  {
   "cell_type": "raw",
   "id": "18a4272c",
   "metadata": {},
   "source": [
    "1. Write a Python program to print 'Hello Python'?"
   ]
  },
  {
   "cell_type": "code",
   "execution_count": 8,
   "id": "3b521f2e",
   "metadata": {},
   "outputs": [
    {
     "name": "stdout",
     "output_type": "stream",
     "text": [
      "Hello Python\n"
     ]
    }
   ],
   "source": [
    "a=\"Hello Python\"\n",
    "print(a)"
   ]
  },
  {
   "cell_type": "raw",
   "id": "77bec82f",
   "metadata": {},
   "source": [
    "2.Write a Python program to do arithmetical operations addition and division.?"
   ]
  },
  {
   "cell_type": "code",
   "execution_count": 23,
   "id": "33d39b2f",
   "metadata": {},
   "outputs": [
    {
     "name": "stdout",
     "output_type": "stream",
     "text": [
      "Enter the first number: 20\n",
      "Enter the second number: 120\n",
      "Sum of the numbers is:  140.0\n",
      "Division of the numbers is: 0.16666666666666666\n"
     ]
    }
   ],
   "source": [
    "num_1=input(\"Enter the first number: \")\n",
    "num_2=input(\"Enter the second number: \")\n",
    "# Add two numbers  \n",
    "sum=float (num_1)+float (num_2)\n",
    "#Divide two numbers  \n",
    "div = float(num_1) / float(num_2)  \n",
    "print (\"Sum of the numbers is: \",sum)\n",
    "print (\"Division of the numbers is:\",div)"
   ]
  },
  {
   "cell_type": "raw",
   "id": "177e4c8b",
   "metadata": {},
   "source": [
    "3. Write a Python program to find the area of a triangle?"
   ]
  },
  {
   "cell_type": "code",
   "execution_count": 26,
   "id": "f3ad8134",
   "metadata": {},
   "outputs": [
    {
     "name": "stdout",
     "output_type": "stream",
     "text": [
      "Enter first side: 80\n",
      "Enter second side: 50\n",
      "Enter third side: 90\n",
      "The area of the triangle is 1989.97\n"
     ]
    }
   ],
   "source": [
    "#Prog for Area of a triangle using sides\n",
    "\n",
    "a = float(input('Enter first side: '))  \n",
    "b = float(input('Enter second side: '))  \n",
    "c = float(input('Enter third side: ')) \n",
    "\n",
    "# calculate the semi-perimeter  \n",
    "s = (a + b + c) / 2  \n",
    "\n",
    "# calculate the area  \n",
    "area = (s*(s-a)*(s-b)*(s-c)) ** 0.5  \n",
    "print('The area of the triangle is %0.2f' %area) \n"
   ]
  },
  {
   "cell_type": "code",
   "execution_count": 27,
   "id": "789c783c",
   "metadata": {},
   "outputs": [
    {
     "name": "stdout",
     "output_type": "stream",
     "text": [
      "Enter height of the triangle: 80\n",
      "Enter base of the triangle: 40\n",
      "Area of triangle =  1600.0\n"
     ]
    }
   ],
   "source": [
    "#Prog for Area of triangle using base and height\n",
    "\n",
    "h = float(input(\"Enter height of the triangle: \"))\n",
    "b = float(input(\"Enter base of the triangle: \"))\n",
    "area = 0.5 * b * h\n",
    "print(\"Area of triangle = \", area)"
   ]
  },
  {
   "cell_type": "raw",
   "id": "703ea4c2",
   "metadata": {},
   "source": [
    "4. Write a Python program to swap two variables?"
   ]
  },
  {
   "cell_type": "code",
   "execution_count": 3,
   "id": "0b51cdfc",
   "metadata": {},
   "outputs": [
    {
     "name": "stdout",
     "output_type": "stream",
     "text": [
      "enter value of x: 80\n",
      "enter value of y:50\n",
      "The value of x after swapping: 50\n",
      "The value of y after swapping: 80\n"
     ]
    }
   ],
   "source": [
    "# Python program to swap two variables\n",
    "\n",
    "x = input(\"enter value of x: \")\n",
    "y = input(\"enter value of y:\")\n",
    "\n",
    "# create a temporary variable and swap the values\n",
    "temp = x\n",
    "x = y\n",
    "y = temp\n",
    "\n",
    "print('The value of x after swapping: {}'.format(x))\n",
    "print('The value of y after swapping: {}'.format(y))\n"
   ]
  },
  {
   "cell_type": "raw",
   "id": "15e8a9c0",
   "metadata": {},
   "source": [
    "5. Write a Python program to generate a random number?"
   ]
  },
  {
   "cell_type": "code",
   "execution_count": 21,
   "id": "955c0a1b",
   "metadata": {},
   "outputs": [
    {
     "name": "stdout",
     "output_type": "stream",
     "text": [
      "902\n"
     ]
    }
   ],
   "source": [
    "# Program to generate a random number between 0 and 9\n",
    "\n",
    "# importing the random module\n",
    "import random\n",
    "print(random.randint(0,999))\n"
   ]
  }
 ],
 "metadata": {
  "kernelspec": {
   "display_name": "Python 3 (ipykernel)",
   "language": "python",
   "name": "python3"
  },
  "language_info": {
   "codemirror_mode": {
    "name": "ipython",
    "version": 3
   },
   "file_extension": ".py",
   "mimetype": "text/x-python",
   "name": "python",
   "nbconvert_exporter": "python",
   "pygments_lexer": "ipython3",
   "version": "3.9.7"
  }
 },
 "nbformat": 4,
 "nbformat_minor": 5
}
